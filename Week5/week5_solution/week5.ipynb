{
 "cells": [
  {
   "cell_type": "code",
   "execution_count": 1,
   "id": "eb8adfa9-e870-46fa-b524-0f90184ef677",
   "metadata": {},
   "outputs": [],
   "source": [
    "#Direct  Input\n",
    "header=['SID','SNAME','CITY','CONTACT']\n",
    "Student_DATA=[[1,'Om','Surat',6787987678],\n",
    "        [2,'Sai','Bardoli',6576854324],\n",
    "        [3,'Ram','Mota',67569087432],\n",
    "        [4,'Radha','Madhi',5465768765],\n",
    "        [5,'Krishna','Valod',1234567809]]"
   ]
  },
  {
   "cell_type": "code",
   "execution_count": 2,
   "id": "9be8561f-b427-4da3-92f5-bd0896b724f0",
   "metadata": {},
   "outputs": [
    {
     "name": "stdin",
     "output_type": "stream",
     "text": [
      "Enter Student Id: 6\n",
      "Enter Student Name: Margi\n",
      "Enter Student City: Vyara\n",
      "Enter Student Contect Number: 6576879809\n",
      "Enter Student Id: 7\n",
      "Enter Student Name: Jyoti\n",
      "Enter Student City: Bardoli\n",
      "Enter Student Contect Number: 576543456\n",
      "Enter Student Id: 8\n",
      "Enter Student Name: Vihu\n",
      "Enter Student City: Bardoli\n",
      "Enter Student Contect Number: 6574839201\n",
      "Enter Student Id: 9\n",
      "Enter Student Name: Sarita\n",
      "Enter Student City: Surat\n",
      "Enter Student Contect Number: 46576879809\n",
      "Enter Student Id: 10\n",
      "Enter Student Name: Riya\n",
      "Enter Student City: Navsari\n",
      "Enter Student Contect Number: 675432109\n"
     ]
    }
   ],
   "source": [
    "#User Input\n",
    "list=[]\n",
    "for i in range(5):\n",
    "    SID=int(input(\"Enter Student Id:\"))\n",
    "    SNAME=input(\"Enter Student Name:\")\n",
    "    CITY=input(\"Enter Student City:\")\n",
    "    CONTACT=int(input(\"Enter Student Contect Number:\"))\n",
    "    list2=[SID,SNAME,CITY,CONTACT]\n",
    "    list.append(list2)"
   ]
  },
  {
   "cell_type": "code",
   "execution_count": 3,
   "id": "bf5c40d1-7fca-46ea-80d9-4ab6a7fa8300",
   "metadata": {},
   "outputs": [],
   "source": [
    "#write file\n",
    "import csv\n",
    "with open('Student.csv','w',newline='')as csv_file:\n",
    "    w=csv.writer(csv_file)\n",
    "    w.writerow(header)\n",
    "    w.writerows(Student_DATA)\n",
    "    w.writerows(list)\n"
   ]
  },
  {
   "cell_type": "code",
   "execution_count": 4,
   "id": "28a35f22-52e5-4987-b166-014522e70437",
   "metadata": {},
   "outputs": [
    {
     "name": "stdout",
     "output_type": "stream",
     "text": [
      "['SID', 'SNAME', 'CITY', 'CONTACT']\n",
      "['1', 'Om', 'Surat', '6787987678']\n",
      "['2', 'Sai', 'Bardoli', '6576854324']\n",
      "['3', 'Ram', 'Mota', '67569087432']\n",
      "['4', 'Radha', 'Madhi', '5465768765']\n",
      "['5', 'Krishna', 'Valod', '1234567809']\n",
      "['6', 'Margi', 'Vyara', '6576879809']\n",
      "['7', 'Jyoti', 'Bardoli', '576543456']\n",
      "['8', 'Vihu', 'Bardoli', '6574839201']\n",
      "['9', 'Sarita', 'Surat', '46576879809']\n",
      "['10', 'Riya', 'Navsari', '675432109']\n"
     ]
    }
   ],
   "source": [
    "#Read file\n",
    "import csv\n",
    "with open('Student.csv','r')as read_obj:\n",
    "    data=csv.reader(read_obj)\n",
    "    for Student_DATA in data:\n",
    "        print(Student_DATA)"
   ]
  },
  {
   "cell_type": "code",
   "execution_count": null,
   "id": "0e3fcd19-58a1-429e-a667-205d9db9802d",
   "metadata": {},
   "outputs": [],
   "source": []
  }
 ],
 "metadata": {
  "kernelspec": {
   "display_name": "Python 3 (ipykernel)",
   "language": "python",
   "name": "python3"
  },
  "language_info": {
   "codemirror_mode": {
    "name": "ipython",
    "version": 3
   },
   "file_extension": ".py",
   "mimetype": "text/x-python",
   "name": "python",
   "nbconvert_exporter": "python",
   "pygments_lexer": "ipython3",
   "version": "3.11.4"
  }
 },
 "nbformat": 4,
 "nbformat_minor": 5
}
